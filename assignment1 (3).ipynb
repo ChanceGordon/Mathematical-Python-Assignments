{
 "cells": [
  {
   "cell_type": "markdown",
   "metadata": {},
   "source": [
    "# MATH 210 Assignment 1\n",
    "\n",
    "### Instructions\n",
    "\n",
    "* There are 4 problems and 18 total points\n",
    "* Write your solutions in the cells below\n",
    "* You may work on these problems with others but you must write your solutions on your own\n",
    "* **Do not import** any Python packages such as `math` or `numpy` to complete this assignment\n",
    "* Execute the test cells to verify that your solutions pass\n",
    "* This notebook does not contain all tests for grading (this means that your solution may not be completely correct even if it passes all tests below)\n",
    "* Submit this notebook to Canvas before **11:59pm Friday September 21**"
   ]
  },
  {
   "cell_type": "markdown",
   "metadata": {},
   "source": [
    "### Problem 1 (3 points)\n",
    "\n",
    "Consider the beautiful infinite series identity\n",
    "\n",
    "$$\n",
    "\\frac{2 \\pi}{e^{\\pi x} - e^{-\\pi x}} = x \\sum_{k=-\\infty}^{\\infty} \\frac{(-1)^k}{x^2 + k^2}\n",
    "$$\n",
    "\n",
    "Write a function called `k_sum` which takes two input parameters `x` and `N` and returns the sum\n",
    "\n",
    "$$\n",
    "x \\sum_{k=-N}^{N} \\frac{(-1)^k}{x^2 + k^2}\n",
    "$$"
   ]
  },
  {
   "cell_type": "code",
   "execution_count": 1,
   "metadata": {
    "deletable": false,
    "nbgrader": {
     "checksum": "f61eb2e800e4f72a488ce01797618359",
     "grade": false,
     "grade_id": "k_sum",
     "locked": false,
     "schema_version": 1,
     "solution": true
    }
   },
   "outputs": [],
   "source": [
    "def k_sum(x,N) :\n",
    "    terms = [(x*((-1)**k))/(x**2 + k**2) for k in range(-N,N+1)]\n",
    "    partial_sum = sum(terms)\n",
    "    return partial_sum\n",
    "    "
   ]
  },
  {
   "cell_type": "code",
   "execution_count": 2,
   "metadata": {
    "deletable": false,
    "editable": false,
    "nbgrader": {
     "checksum": "86bdec6d03d402b02c5338ca073b57b7",
     "grade": true,
     "grade_id": "k_sum_type",
     "locked": true,
     "points": 1,
     "schema_version": 1,
     "solution": false
    }
   },
   "outputs": [
    {
     "name": "stdout",
     "output_type": "stream",
     "text": [
      "Problem 1 Test 1: Success!\n"
     ]
    }
   ],
   "source": [
    "\"Check that k_sum returns the correct datatype.\"\n",
    "assert type(k_sum(1,1)) == float , \"Return value should be a float.\"\n",
    "print(\"Problem 1 Test 1: Success!\")"
   ]
  },
  {
   "cell_type": "code",
   "execution_count": 3,
   "metadata": {
    "deletable": false,
    "editable": false,
    "nbgrader": {
     "checksum": "6f8c47446d525601315ac8cd478261ce",
     "grade": true,
     "grade_id": "k_sum_values",
     "locked": true,
     "points": 2,
     "schema_version": 1,
     "solution": false
    }
   },
   "outputs": [
    {
     "name": "stdout",
     "output_type": "stream",
     "text": [
      "Problem 1 Test 2: Success!\n"
     ]
    }
   ],
   "source": [
    "\"Check that k_sum returns the correct values.\"\n",
    "assert k_sum(1,0) == 1.0 , \"Value k_sum(1,0) should be equal to 1.0.\"\n",
    "print(\"Problem 1 Test 2: Success!\")"
   ]
  },
  {
   "cell_type": "markdown",
   "metadata": {},
   "source": [
    "### Problem 2 (3 points)\n",
    "\n",
    "Write a function called `log_taylor` which takes one input parameter `N` and returns a Python list of length `N` representing the sequence $\\{ a_1,a_2,\\dots,a_N\\}$ of coefficients of the Taylor polynomial $T_N(x)$ of degree $N$ of $\\ln(1 + x)$\n",
    "\n",
    "$$\n",
    "T_N(x) = \\sum_{k=1}^N \\frac{(-1)^{k+1}}{k} x^k\n",
    "$$\n",
    "\n",
    "In other words, the function returns the list $[a_1,a_2,\\dots,a_N]$ where\n",
    "\n",
    "$$\n",
    "a_k = \\frac{(-1)^{k+1}}{k}\n",
    "$$"
   ]
  },
  {
   "cell_type": "code",
   "execution_count": 4,
   "metadata": {
    "deletable": false,
    "nbgrader": {
     "checksum": "8618df365deeee4ec15265727f7c9511",
     "grade": false,
     "grade_id": "log_taylor",
     "locked": false,
     "schema_version": 1,
     "solution": true
    }
   },
   "outputs": [],
   "source": [
    "def log_taylor(N) :\n",
    "    numbers = [((-1)**(k+1))/k for k in range (1,N+1)]\n",
    "    numbers_list = list(numbers)\n",
    "    return numbers_list"
   ]
  },
  {
   "cell_type": "code",
   "execution_count": 5,
   "metadata": {
    "deletable": false,
    "editable": false,
    "nbgrader": {
     "checksum": "46fbafb868a9d95c8267bce9c2332cb7",
     "grade": true,
     "grade_id": "log_taylor_type",
     "locked": true,
     "points": 1,
     "schema_version": 1,
     "solution": false
    }
   },
   "outputs": [
    {
     "name": "stdout",
     "output_type": "stream",
     "text": [
      "Problem 2 Test 1: Success!\n"
     ]
    }
   ],
   "source": [
    "\"Check that log_taylor returns the correct datatype.\"\n",
    "assert type(log_taylor(3)) == list , \"Return value should be a list.\"\n",
    "assert len(log_taylor(3)) == 3 , \"Return value should be a list of length 3 when N=3.\"\n",
    "print(\"Problem 2 Test 1: Success!\")"
   ]
  },
  {
   "cell_type": "code",
   "execution_count": 6,
   "metadata": {
    "deletable": false,
    "editable": false,
    "nbgrader": {
     "checksum": "6351825ed3ef2d9e7780c7618111a238",
     "grade": true,
     "grade_id": "log_taylor_values",
     "locked": true,
     "points": 2,
     "schema_version": 1,
     "solution": false
    }
   },
   "outputs": [
    {
     "name": "stdout",
     "output_type": "stream",
     "text": [
      "Problem 2 Test 2: Success!\n"
     ]
    }
   ],
   "source": [
    "\"Check that log_taylor returns the correct values.\"\n",
    "assert log_taylor(1) == [1.0] , \"Value log_taylor(1) should be [1.0].\"\n",
    "print(\"Problem 2 Test 2: Success!\")"
   ]
  },
  {
   "cell_type": "markdown",
   "metadata": {},
   "source": [
    "### Problem 3 (4 points)\n",
    "\n",
    "Represent a polynomial $p(x)=a_0+a_1x+a_2x^2+\\cdots+a_nx^n$ as a list of coefficients $[a_0,a_1,a_2,\\dots,a_n]$. Write a function called `poly_eval` which takes two input parameters `p` and `c`, where `p` is a Python list of numbers representing a polynomial $p(x)$ and `c` is a number, and returns the value $p(c)$."
   ]
  },
  {
   "cell_type": "code",
   "execution_count": 1,
   "metadata": {
    "deletable": false,
    "nbgrader": {
     "checksum": "7582a1a3d4ad019d5dced5bf3aa2469e",
     "grade": false,
     "grade_id": "poly_eval",
     "locked": false,
     "schema_version": 1,
     "solution": true
    }
   },
   "outputs": [],
   "source": [
    "def poly_eval(p,c) :\n",
    "    n = len(p)\n",
    "    poly_num = [p[i]*(c**i) for i in range(0,n)]\n",
    "    poly_sum = sum(poly_num)\n",
    "    return poly_sum"
   ]
  },
  {
   "cell_type": "code",
   "execution_count": 2,
   "metadata": {
    "deletable": false,
    "editable": false,
    "nbgrader": {
     "checksum": "0ba6f53a6e6fbab23510c07022904633",
     "grade": true,
     "grade_id": "poly_eval_values1",
     "locked": true,
     "points": 1,
     "schema_version": 1,
     "solution": false
    }
   },
   "outputs": [
    {
     "name": "stdout",
     "output_type": "stream",
     "text": [
      "Problem 3 Test 1: Success!\n"
     ]
    }
   ],
   "source": [
    "\"Check that poly_eval returns the correct values.\"\n",
    "assert poly_eval([1,1,1],1) == 3\n",
    "print(\"Problem 3 Test 1: Success!\")"
   ]
  },
  {
   "cell_type": "code",
   "execution_count": 3,
   "metadata": {
    "deletable": false,
    "editable": false,
    "nbgrader": {
     "checksum": "93f8ba03700ca8c53ad808b75d32fcc2",
     "grade": true,
     "grade_id": "poly_eval_values2",
     "locked": true,
     "points": 3,
     "schema_version": 1,
     "solution": false
    }
   },
   "outputs": [
    {
     "name": "stdout",
     "output_type": "stream",
     "text": [
      "Problem 3 Test 2: Success!\n"
     ]
    }
   ],
   "source": [
    "\"Check that poly_eval returns the correct values.\"\n",
    "assert poly_eval([1,0,1],2) == 5\n",
    "print(\"Problem 3 Test 2: Success!\")"
   ]
  },
  {
   "cell_type": "markdown",
   "metadata": {},
   "source": [
    "### Problem 4  (8 points)\n",
    "\n",
    "Write a function called `statistics` which takes one input parameter `samples`, a list of numbers, and returns a tuple (of length 7) of statistics:\n",
    "\n",
    "    (mean, standard deviation, minimum, median, maximum, range, total number of samples)\n",
    "\n",
    "Recall, if `samples` is the list of numbers $[x_0,x_1,...,x_N]$ then\n",
    "\n",
    "$$\n",
    "\\begin{align}\n",
    "\\text{mean} & : & \\mu = \\frac{1}{N+1}\\sum_{k=0}^N x_k \\\\\n",
    "\\text{standard deviation} & : & \\sqrt{\\frac{\\sum_{k=0}^N (\\mu - x_k)^2}{N + 1}} \\\\\n",
    "\\text{range} & : & \\max\\{x_k\\} - \\min\\{x_k\\} \\\\\n",
    "\\end{align}\n",
    "$$\n",
    "\n",
    "The [median](https://en.wikipedia.org/wiki/Median) is the middle value if the number of samples is odd, or the median is the average of the two middle values if the number of samples is even. Use the built-in function `sorted` to sort the list of values. \n",
    "\n",
    "Remember:\n",
    "* Do not import any Python packages\n",
    "* Do not use Python keywords or built-in function names (such as `max`, `min`, and `range`) as variable names"
   ]
  },
  {
   "cell_type": "code",
   "execution_count": 97,
   "metadata": {
    "deletable": false,
    "nbgrader": {
     "checksum": "069ea9f14412ca31509d563e7715bb7e",
     "grade": false,
     "grade_id": "statistics",
     "locked": false,
     "schema_version": 1,
     "solution": true
    }
   },
   "outputs": [],
   "source": [
    "def statistics(samples) :\n",
    "    n = len(samples)\n",
    "    samples = sorted(samples)\n",
    "    stat_mean = (sum([samples[i] for i in range(0,n)]))/n\n",
    "    stat_stdv = ((sum([(stat_mean - samples[i])**2 for i in range(0,n)]))/(n))**0.5\n",
    "    stat_minimum = min(samples)\n",
    "    stat_maximum = max(samples)\n",
    "    \n",
    "    if n % 2 == 0 :\n",
    "        stat_median = (samples[(n-1)/2] + samples[(n+1)/2])/2\n",
    "        \n",
    "    if n % 2 == 1 :\n",
    "        stat_median = samples[(n-1)//2]\n",
    "            \n",
    "    stat_range = stat_maximum - stat_minimum\n",
    "    final_tuple = (stat_mean, stat_stdv, stat_minimum, stat_median, stat_maximum, stat_range, n) \n",
    "    return final_tuple"
   ]
  },
  {
   "cell_type": "code",
   "execution_count": 98,
   "metadata": {
    "deletable": false,
    "editable": false,
    "nbgrader": {
     "checksum": "4caa7d810f06fc22d25f11a29783e837",
     "grade": true,
     "grade_id": "statistics_type",
     "locked": true,
     "points": 1,
     "schema_version": 1,
     "solution": false
    }
   },
   "outputs": [
    {
     "name": "stdout",
     "output_type": "stream",
     "text": [
      "Problem 4 Test 1: Success!\n"
     ]
    }
   ],
   "source": [
    "\"Check that statistics returns the correct datatype.\"\n",
    "assert type(statistics([1.3,5.2,3.7])) == tuple , \"Return value should be a tuple.\"\n",
    "assert len(statistics([1.3,5.2,3.7])) == 7 , \"Return value should be a tuple of length 7.\"\n",
    "print(\"Problem 4 Test 1: Success!\")"
   ]
  },
  {
   "cell_type": "code",
   "execution_count": 99,
   "metadata": {
    "deletable": false,
    "editable": false,
    "nbgrader": {
     "checksum": "fa003a7f82e2244a7518d0b9c6402aad",
     "grade": true,
     "grade_id": "statistics_mean",
     "locked": true,
     "points": 1,
     "schema_version": 1,
     "solution": false
    }
   },
   "outputs": [
    {
     "name": "stdout",
     "output_type": "stream",
     "text": [
      "Problem 4 Test 2: Success!\n"
     ]
    }
   ],
   "source": [
    "\"Check that statistics returns the correct mean value.\"\n",
    "epsilon = 10e-14\n",
    "assert abs(statistics([1.0,2.0,3.0])[0] - 2.0) < epsilon , \"Mean value failed.\"\n",
    "print(\"Problem 4 Test 2: Success!\")"
   ]
  },
  {
   "cell_type": "code",
   "execution_count": 100,
   "metadata": {
    "deletable": false,
    "editable": false,
    "nbgrader": {
     "checksum": "815d48dc6db357179a53f3b1d2811419",
     "grade": true,
     "grade_id": "statistics_median",
     "locked": true,
     "points": 2,
     "schema_version": 1,
     "solution": false
    }
   },
   "outputs": [
    {
     "name": "stdout",
     "output_type": "stream",
     "text": [
      "Problem 4 Test 3: Success!\n"
     ]
    }
   ],
   "source": [
    "\"Check that statistics returns the correct median value.\"\n",
    "assert abs(statistics([1.0,2.0,3.0])[3] - 2.0) < epsilon , \"Median value failed.\"\n",
    "print(\"Problem 4 Test 3: Success!\")"
   ]
  },
  {
   "cell_type": "code",
   "execution_count": 101,
   "metadata": {
    "deletable": false,
    "editable": false,
    "nbgrader": {
     "checksum": "5ecdb1ffd58959fb5098e77e08fb97bb",
     "grade": true,
     "grade_id": "statistics_std",
     "locked": true,
     "points": 2,
     "schema_version": 1,
     "solution": false
    }
   },
   "outputs": [
    {
     "name": "stdout",
     "output_type": "stream",
     "text": [
      "Problem 4 Test 4: Success!\n"
     ]
    }
   ],
   "source": [
    "\"Check that statistics returns the correct standard deviation value.\"\n",
    "epsilon = 10e-14\n",
    "assert abs(statistics([1.0,2.0,3.0])[1] - (2/3)**0.5) < epsilon , \"Standard deviation value failed.\"\n",
    "print(\"Problem 4 Test 4: Success!\")"
   ]
  },
  {
   "cell_type": "code",
   "execution_count": 102,
   "metadata": {
    "deletable": false,
    "editable": false,
    "nbgrader": {
     "checksum": "4950736f088a0a2726316e8ef9b23a45",
     "grade": true,
     "grade_id": "statistics_range",
     "locked": true,
     "points": 2,
     "schema_version": 1,
     "solution": false
    }
   },
   "outputs": [
    {
     "name": "stdout",
     "output_type": "stream",
     "text": [
      "Problem 4 Test 5: Success!\n"
     ]
    }
   ],
   "source": [
    "\"Check that statistics returns the correct range values.\"\n",
    "epsilon = 10e-14\n",
    "assert abs(statistics([1.0,2.0,3.0])[2] - 1.0) < epsilon , \"Minimum value failed.\"\n",
    "assert abs(statistics([1.0,2.0,3.0])[4] - 3.0) < epsilon , \"Maximum value failed.\"\n",
    "assert abs(statistics([1.0,2.0,3.0])[5] - 2.0) < epsilon , \"Range value failed.\"\n",
    "assert statistics([1.0,2.0,3.0])[6] == 3 , \"Total value failed.\"\n",
    "print(\"Problem 4 Test 5: Success!\")"
   ]
  },
  {
   "cell_type": "code",
   "execution_count": null,
   "metadata": {},
   "outputs": [],
   "source": []
  },
  {
   "cell_type": "code",
   "execution_count": null,
   "metadata": {},
   "outputs": [],
   "source": []
  }
 ],
 "metadata": {
  "kernelspec": {
   "display_name": "Python 3",
   "language": "python",
   "name": "python3"
  },
  "language_info": {
   "codemirror_mode": {
    "name": "ipython",
    "version": 3
   },
   "file_extension": ".py",
   "mimetype": "text/x-python",
   "name": "python",
   "nbconvert_exporter": "python",
   "pygments_lexer": "ipython3",
   "version": "3.7.6"
  }
 },
 "nbformat": 4,
 "nbformat_minor": 2
}
