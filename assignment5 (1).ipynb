{
 "cells": [
  {
   "cell_type": "markdown",
   "metadata": {},
   "source": [
    "# MATH 210 Assignment 5\n",
    "\n",
    "### Instructions\n",
    "\n",
    "* There are 4 problems and 22 total points.\n",
    "* Write your solutions in the cells below.\n",
    "* You may work on these problems with others but you must write your solutions on your own.\n",
    "* Use NumPy, SciPy and Matplotlib.\n",
    "* Execute the test cells to verify that your solutions pass.\n",
    "* This notebook does not contain all tests for grading (this means that your solution may not be completely correct even if it passes all tests below).\n",
    "* Submit this notebook to Canvas before **11:59pm Friday November 30**."
   ]
  },
  {
   "cell_type": "code",
   "execution_count": 27,
   "metadata": {},
   "outputs": [],
   "source": [
    "import numpy as np\n",
    "import matplotlib.pyplot as plt\n",
    "import scipy.linalg as la\n",
    "import scipy.integrate as spi\n",
    "%matplotlib inline"
   ]
  },
  {
   "cell_type": "markdown",
   "metadata": {},
   "source": [
    "### Problem 1 (7 points)\n",
    "\n",
    "Write a function called `is_adjacency` which takes an input parameter `A`, a 2D NumPy array, and returns `True` if $A$ is the adjacency matrix of simple, connected, undirected graph and `False` otherwise. In other words, the function should return `True` if all the following conditions are met:\n",
    "* $A$ is square.\n",
    "* $A$ is symmetric.\n",
    "* All diagonal entries of $A$ are 0.\n",
    "* All off-diagonal entries of $A$ are either 0 or 1. This implies that the graph associated with $A$ is simple and undirected.\n",
    "* The multiplicity of the eigenvalue 0 in the Laplacian matrix $L$ associated with $A$ is 1. This implies that the graph associated with $A$ is connected.\n",
    "\n",
    "There are several NumPy functions that may be helpful such as [`numpy.diag`](https://docs.scipy.org/doc/numpy/reference/generated/numpy.diag.html), [`numpy.allclose`](https://docs.scipy.org/doc/numpy/reference/generated/numpy.allclose.html?highlight=allclose#numpy.allclose) and [`numpy.unique`](https://docs.scipy.org/doc/numpy/reference/generated/numpy.unique.html). Use any NumPy functions that you like.\n",
    "\n",
    "The [Laplacian matrix](https://en.wikipedia.org/wiki/Laplacian_matrix) $L$ of a graph $G$ is defined as the matrix where the entry at index $(i,j)$ is -1 if node $i$ is connected to node $j$, 0 if not and $-d_i$ at the diagonal entry at index $(i,i)$ where $d_i$ is the degree of node $i$. The [degree](https://en.wikipedia.org/wiki/Degree_(graph_theory) of a node is the number of edges connected to that node. The degree of node $i$ is the sum of row $i$ in the adjacency matrix $A$. In other words, $L = D - A$ where $A$ is the adjacency matrix and $D$ is the [degree matrix](https://en.wikipedia.org/wiki/Degree_matrix).\n",
    "\n",
    "For example, let $G$ be the following graph:\n",
    "\n",
    "![graph](https://upload.wikimedia.org/wikipedia/commons/thumb/5/5b/6n-graf.svg/440px-6n-graf.svg.png)\n",
    "\n",
    "The adjacency matrix is\n",
    "\n",
    "$$\n",
    "A_G = \\begin{bmatrix}\n",
    "0 & 1 & 0 & 0 & 1 & 0 \\\\\n",
    "1 & 0 & 1 & 0 & 1 & 0 \\\\\n",
    "0 & 1 & 0 & 1 & 0 & 0 \\\\\n",
    "0 & 0 & 1 & 0 & 1 & 1 \\\\\n",
    "1 & 1 & 0 & 1 & 0 & 0 \\\\\n",
    "0 & 0 & 0 & 1 & 0 & 0\n",
    "\\end{bmatrix}\n",
    "$$\n",
    "\n",
    "The degree matrix is\n",
    "\n",
    "$$\n",
    "D_G = \\begin{bmatrix}\n",
    "2 & 0 & 0 & 0 & 0 & 0 \\\\\n",
    "0 & 3 & 0 & 0 & 0 & 0 \\\\\n",
    "0 & 0 & 2 & 0 & 0 & 0 \\\\\n",
    "0 & 0 & 0 & 3 & 0 & 0 \\\\\n",
    "0 & 0 & 0 & 0 & 3 & 0 \\\\\n",
    "0 & 0 & 0 & 0 & 0 & 1\n",
    "\\end{bmatrix}\n",
    "$$\n",
    "\n",
    "Note the diagonal entires are the sum of the rows of $A_G$. The Laplacian matrix is:\n",
    "\n",
    "$$\n",
    "L_G = D_G - A_G = \\left[ \\begin{array}{rrrrrr}\n",
    "2 & -1 & 0 & 0 & -1 & 0 \\\\\n",
    "-1 & 3 & -1 & 0 & -1 & 0 \\\\\n",
    "0 & -1 & 2 & -1 & 0 & 0 \\\\\n",
    "0 & 0 & -1 & 3 & -1 & -1 \\\\\n",
    "-1 & -1 & 0 & -1 & 3 & 0 \\\\\n",
    "0 & 0 & 0 & -1 & 0 & 1\n",
    "\\end{array} \\right]\n",
    "$$\n",
    "\n",
    "Finally the multiplicity of the eigenvalue 0 in $L_G$ is 1."
   ]
  },
  {
   "cell_type": "code",
   "execution_count": 28,
   "metadata": {},
   "outputs": [
    {
     "name": "stdout",
     "output_type": "stream",
     "text": [
      "[ 0.    0.72  1.68  3.    3.7   4.89]\n"
     ]
    }
   ],
   "source": [
    "L = np.array([[2,-1,0,0,-1,0],\n",
    "              [-1,3,-1,0,-1,0],\n",
    "              [0,-1,2,-1,0,0],\n",
    "              [0,0,-1,3,-1,-1],\n",
    "              [-1,-1,0,-1,3,0],\n",
    "              [0,0,0,-1,0,1]])\n",
    "\n",
    "eigvals,eigvecs = la.eig(L)\n",
    "\n",
    "print(np.round(eigvals.real,2))"
   ]
  },
  {
   "cell_type": "code",
   "execution_count": 47,
   "metadata": {
    "deletable": false,
    "nbgrader": {
     "checksum": "2f7de4e88e24f20d3105db1855dbd8bf",
     "grade": false,
     "grade_id": "prob1",
     "locked": false,
     "schema_version": 1,
     "solution": true
    }
   },
   "outputs": [],
   "source": [
    "import scipy.sparse.csgraph as cs\n",
    "def is_adjacency(A):\n",
    "     \n",
    "    m = A[:,0].size\n",
    "    n = A[0,:].size\n",
    "    \n",
    "    B = A.transpose()\n",
    "    dA = np.diag(A)\n",
    "    \n",
    "    if m == n:\n",
    "        \n",
    "        if np.array_equal(A,B) == True:\n",
    "            \n",
    "            if np.array_equal(dA,np.zeros(n)) == True:\n",
    "                \n",
    "                for j in range(0,n):\n",
    "                    for i in range(0,n):\n",
    "                        \n",
    "                        if A[i,j] == 0 or 1:\n",
    "                            \n",
    "                            L = cs.laplacian(A)\n",
    "                            eigvals,eigvecs = la.eig(L)\n",
    "                            n = eigvals.size\n",
    "                            \n",
    "                            for p in range(1,n):\n",
    "                                \n",
    "                                if eigvals[0] == eigvals[p]:\n",
    "                                    \n",
    "                                    return False\n",
    "                            \n",
    "                            return True\n",
    "    else:\n",
    "         return False"
   ]
  },
  {
   "cell_type": "code",
   "execution_count": 48,
   "metadata": {
    "deletable": false,
    "editable": false,
    "nbgrader": {
     "checksum": "8eb57c3e3582649a820601d0f1293279",
     "grade": true,
     "grade_id": "prob1-test1",
     "locked": true,
     "points": 1,
     "schema_version": 1,
     "solution": false
    }
   },
   "outputs": [
    {
     "name": "stdout",
     "output_type": "stream",
     "text": [
      "Problem 1 Test 1: Success!\n"
     ]
    }
   ],
   "source": [
    "\"Check that is_adjacency returns the correct type.\"\n",
    "A = np.array([[0,1],[1,0]])\n",
    "assert type(is_adjacency(A)) == bool , \"Return value should be boolean.\"\n",
    "print(\"Problem 1 Test 1: Success!\")"
   ]
  },
  {
   "cell_type": "code",
   "execution_count": 49,
   "metadata": {
    "deletable": false,
    "editable": false,
    "nbgrader": {
     "checksum": "83a6b45b6d291087e60e1de95a76bb1e",
     "grade": true,
     "grade_id": "prob1-test2",
     "locked": true,
     "points": 1,
     "schema_version": 1,
     "solution": false
    }
   },
   "outputs": [
    {
     "name": "stdout",
     "output_type": "stream",
     "text": [
      "Problem 1 Test 2: Success!\n"
     ]
    }
   ],
   "source": [
    "\"Check that is_adjacency returns False when A is not square.\"\n",
    "A = np.arange(0,21).reshape(3,7)\n",
    "assert not is_adjacency(A) , \"Return value should be False.\"\n",
    "print(\"Problem 1 Test 2: Success!\")"
   ]
  },
  {
   "cell_type": "code",
   "execution_count": 50,
   "metadata": {
    "deletable": false,
    "editable": false,
    "nbgrader": {
     "checksum": "79612e527fcea9aa8acd700623836629",
     "grade": true,
     "grade_id": "prob1-test3",
     "locked": true,
     "points": 1,
     "schema_version": 1,
     "solution": false
    }
   },
   "outputs": [
    {
     "name": "stdout",
     "output_type": "stream",
     "text": [
      "Problem 1 Test 3: Success!\n"
     ]
    }
   ],
   "source": [
    "\"Check that is_adjacency returns False when A is not symmetric.\"\n",
    "A = np.arange(0,25).reshape(5,5)\n",
    "assert not is_adjacency(A) , \"Return value should be False.\"\n",
    "print(\"Problem 1 Test 3: Success!\")"
   ]
  },
  {
   "cell_type": "code",
   "execution_count": 51,
   "metadata": {
    "deletable": false,
    "editable": false,
    "nbgrader": {
     "checksum": "bc10f860ea16a68b9604a6caffc8e844",
     "grade": true,
     "grade_id": "prob1-test4",
     "locked": true,
     "points": 1,
     "schema_version": 1,
     "solution": false
    }
   },
   "outputs": [
    {
     "name": "stdout",
     "output_type": "stream",
     "text": [
      "Problem 1 Test 4: Success!\n"
     ]
    }
   ],
   "source": [
    "\"Check that is_adjacency returns False when A has non-zero diagonal entries.\"\n",
    "M = np.arange(0,16).reshape(4,4)\n",
    "A = M + M.T\n",
    "assert not is_adjacency(A) , \"Return value should be False.\"\n",
    "print(\"Problem 1 Test 4: Success!\")"
   ]
  },
  {
   "cell_type": "code",
   "execution_count": 52,
   "metadata": {
    "deletable": false,
    "editable": false,
    "nbgrader": {
     "checksum": "322fc527739d2fa984922a9529c897c7",
     "grade": true,
     "grade_id": "prob1-test5",
     "locked": true,
     "points": 1,
     "schema_version": 1,
     "solution": false
    }
   },
   "outputs": [
    {
     "ename": "AssertionError",
     "evalue": "Return value should be False.",
     "output_type": "error",
     "traceback": [
      "\u001b[0;31m---------------------------------------------------------------------------\u001b[0m",
      "\u001b[0;31mAssertionError\u001b[0m                            Traceback (most recent call last)",
      "\u001b[0;32m<ipython-input-52-1aee4598f576>\u001b[0m in \u001b[0;36m<module>\u001b[0;34m()\u001b[0m\n\u001b[1;32m      3\u001b[0m \u001b[0mB\u001b[0m \u001b[0;34m=\u001b[0m \u001b[0mM\u001b[0m \u001b[0;34m+\u001b[0m \u001b[0mM\u001b[0m\u001b[0;34m.\u001b[0m\u001b[0mT\u001b[0m\u001b[0;34m\u001b[0m\u001b[0m\n\u001b[1;32m      4\u001b[0m \u001b[0mA\u001b[0m \u001b[0;34m=\u001b[0m \u001b[0mB\u001b[0m \u001b[0;34m-\u001b[0m \u001b[0mnp\u001b[0m\u001b[0;34m.\u001b[0m\u001b[0mdiag\u001b[0m\u001b[0;34m(\u001b[0m\u001b[0mnp\u001b[0m\u001b[0;34m.\u001b[0m\u001b[0mdiag\u001b[0m\u001b[0;34m(\u001b[0m\u001b[0mB\u001b[0m\u001b[0;34m)\u001b[0m\u001b[0;34m)\u001b[0m\u001b[0;34m\u001b[0m\u001b[0m\n\u001b[0;32m----> 5\u001b[0;31m \u001b[0;32massert\u001b[0m \u001b[0;32mnot\u001b[0m \u001b[0mis_adjacency\u001b[0m\u001b[0;34m(\u001b[0m\u001b[0mA\u001b[0m\u001b[0;34m)\u001b[0m \u001b[0;34m,\u001b[0m \u001b[0;34m\"Return value should be False.\"\u001b[0m\u001b[0;34m\u001b[0m\u001b[0m\n\u001b[0m\u001b[1;32m      6\u001b[0m \u001b[0mprint\u001b[0m\u001b[0;34m(\u001b[0m\u001b[0;34m\"Problem 1 Test 5: Success!\"\u001b[0m\u001b[0;34m)\u001b[0m\u001b[0;34m\u001b[0m\u001b[0m\n",
      "\u001b[0;31mAssertionError\u001b[0m: Return value should be False."
     ]
    }
   ],
   "source": [
    "\"Check that is_adjacency returns False when A has entries not equal to 0 or 1.\"\n",
    "M = np.arange(0,16).reshape(4,4)\n",
    "B = M + M.T\n",
    "A = B - np.diag(np.diag(B))\n",
    "assert not is_adjacency(A) , \"Return value should be False.\"\n",
    "print(\"Problem 1 Test 5: Success!\")"
   ]
  },
  {
   "cell_type": "code",
   "execution_count": 53,
   "metadata": {
    "deletable": false,
    "editable": false,
    "nbgrader": {
     "checksum": "dd92b22cd07418d2e6f47a56573ceb1c",
     "grade": true,
     "grade_id": "prob1-test6",
     "locked": true,
     "points": 1,
     "schema_version": 1,
     "solution": false
    }
   },
   "outputs": [
    {
     "name": "stdout",
     "output_type": "stream",
     "text": [
      "Problem 1 Test 6: Success!\n"
     ]
    }
   ],
   "source": [
    "\"Check that is_adjacency returns False when A has Laplacian with eigenvalue 0 with multiplicity bigger than 1.\"\n",
    "A = np.array([[0,1,0,0],[1,0,0,0],[0,0,0,1],[0,0,1,0]])\n",
    "assert not is_adjacency(A) , \"Return value should be False.\"\n",
    "print(\"Problem 1 Test 6: Success!\")"
   ]
  },
  {
   "cell_type": "code",
   "execution_count": 54,
   "metadata": {
    "deletable": false,
    "editable": false,
    "nbgrader": {
     "checksum": "52205b30254c1a997b56f0bf1b73656d",
     "grade": true,
     "grade_id": "prob1-test7",
     "locked": true,
     "points": 1,
     "schema_version": 1,
     "solution": false
    }
   },
   "outputs": [
    {
     "name": "stdout",
     "output_type": "stream",
     "text": [
      "Problem 1 Test 7: Success!\n"
     ]
    }
   ],
   "source": [
    "\"Check that is_adjacency returns True when A is the adjacency matrix.\"\n",
    "A = np.array([[0,1,0,1],[1,0,0,0],[0,0,0,1],[1,0,1,0]])\n",
    "assert is_adjacency(A) , \"Return value should be True.\"\n",
    "print(\"Problem 1 Test 7: Success!\")"
   ]
  },
  {
   "cell_type": "markdown",
   "metadata": {},
   "source": [
    "### Problem 2 (5 points)\n",
    "\n",
    "Let $A$ be the adjacency matrix of a simple, connected, undirected graph $G$. [The number of walks of length $k$ from node $i$ to node $j$](https://en.wikipedia.org/wiki/Adjacency_matrix#Matrix_powers) is the entry at index $(i,j)$ of the matrix $A^k$.\n",
    "\n",
    "Write a function called `shortest_walk` which takes input parameters `A`, `i` and `j` and returns the length of the shortest walk connecting node $i$ and node $j$ in the graph with adjacency matrix $A$. In other words, return the smallest value $k$ such that the entry at index $(i,j)$ of $A^k$ is non-zero.\n",
    "\n",
    "The function should print a warning message and return 0 if $A$ is not an adjacency matrix of a simple, undirected graph. (Use the function from Problem 1.)"
   ]
  },
  {
   "cell_type": "code",
   "execution_count": 55,
   "metadata": {
    "deletable": false,
    "nbgrader": {
     "checksum": "daf38b119217bb6fb380f40b59f5de81",
     "grade": false,
     "grade_id": "prob2",
     "locked": false,
     "schema_version": 1,
     "solution": true
    }
   },
   "outputs": [],
   "source": [
    "from numpy.linalg import matrix_power as mpow\n",
    "def shortest_walk(A,i,j):\n",
    "    \n",
    "    if is_adjacency(A) == True:\n",
    "        \n",
    "        k = 1\n",
    "        Ak = mpow(A,k)\n",
    "        \n",
    "        while Ak[i,j] == 0:\n",
    "        \n",
    "            Ak = mpow(A,k+1)\n",
    "            k = k+1\n",
    "        \n",
    "        return k\n",
    "    \n",
    "    else:\n",
    "        \n",
    "        print(\"Matrix A is not an adjacency matrix\")\n",
    "        return 0\n",
    "    "
   ]
  },
  {
   "cell_type": "code",
   "execution_count": 56,
   "metadata": {
    "deletable": false,
    "editable": false,
    "nbgrader": {
     "checksum": "a0077152381db019f1b72b1f8149682b",
     "grade": true,
     "grade_id": "prob2-test1",
     "locked": true,
     "points": 1,
     "schema_version": 1,
     "solution": false
    }
   },
   "outputs": [
    {
     "name": "stdout",
     "output_type": "stream",
     "text": [
      "Problem 2 Test 1: Success!\n"
     ]
    }
   ],
   "source": [
    "\"Check that shortest_walk returns the correct values for the simplest cases.\"\n",
    "A = np.array([[0,1],[1,0]])\n",
    "assert shortest_walk(A,0,1) == 1 , \"Return value should be 1 in this case.\"\n",
    "assert shortest_walk(A,1,1) == 2 , \"Return value should be 2 in this case.\"\n",
    "print(\"Problem 2 Test 1: Success!\")"
   ]
  },
  {
   "cell_type": "code",
   "execution_count": 57,
   "metadata": {
    "deletable": false,
    "editable": false,
    "nbgrader": {
     "checksum": "3e99899a6b611eae4a19ce6996b8afa8",
     "grade": true,
     "grade_id": "prob2-test2",
     "locked": true,
     "points": 1,
     "schema_version": 1,
     "solution": false
    }
   },
   "outputs": [
    {
     "name": "stdout",
     "output_type": "stream",
     "text": [
      "Matrix A is not an adjacency matrix\n",
      "Problem 2 Test 2: Success!\n"
     ]
    }
   ],
   "source": [
    "\"Check that shortest_walk returns 0 when A is not an adjacency matrix of a simple, connected, undirected graph.\"\n",
    "A = np.array([[1,1],[1,0]])\n",
    "assert shortest_walk(A,0,1) == 0 , \"Return value should be 0 in this case.\"\n",
    "print(\"Problem 2 Test 2: Success!\")"
   ]
  },
  {
   "cell_type": "code",
   "execution_count": 58,
   "metadata": {
    "deletable": false,
    "editable": false,
    "nbgrader": {
     "checksum": "39defbe00e018f281199295347136f69",
     "grade": true,
     "grade_id": "prob2-test4",
     "locked": true,
     "points": 3,
     "schema_version": 1,
     "solution": false
    }
   },
   "outputs": [
    {
     "name": "stdout",
     "output_type": "stream",
     "text": [
      "Problem 2 Test 3: Success!\n"
     ]
    }
   ],
   "source": [
    "\"Check that shortest_walk returns the correct values.\"\n",
    "A = np.array([[0,1,0,0,1,0],\n",
    "              [1,0,1,0,1,0],\n",
    "              [0,1,0,1,0,0],\n",
    "              [0,0,1,0,1,1],\n",
    "              [1,1,0,1,0,0],\n",
    "              [0,0,0,1,0,0]])\n",
    "\n",
    "assert shortest_walk(A,4,5) == 2 , \"Return value should be 2 in this case.\"\n",
    "assert shortest_walk(A,0,5) == 3 , \"Return value should be 3 in this case.\"\n",
    "\n",
    "print(\"Problem 2 Test 3: Success!\")"
   ]
  },
  {
   "cell_type": "markdown",
   "metadata": {},
   "source": [
    "##  Problem 3 (5 points)\n",
    "\n",
    "Write a function called `trig_euler` which takes input parameters `alpha`, `beta`, `y0`, `tf` and `N` (with default values `y0=0`, `tf=10` and `N=100`) and implements Euler's method with step size $h = \\frac{t_f}{N-1}$ to approximate the solution of the equation\n",
    "\n",
    "$$\n",
    "y' = \\sin(\\alpha y) + \\cos(\\beta t) \\ , \\ y(0) = y_0\n",
    "$$\n",
    "\n",
    "over the interval $[0,t_f]$. The function plots the approximation $y$ versus $t$ and returns a 2D NumPy array `Y` of size $N$ by 2 where the column at index 0 is the array of $t$ values from 0 to $t_f$, and the column at index 1 is the array of corresponding $y$ values given by Euler's method."
   ]
  },
  {
   "cell_type": "code",
   "execution_count": 101,
   "metadata": {
    "deletable": false,
    "nbgrader": {
     "checksum": "4f161c462f720f60d8edfd66965a6f07",
     "grade": false,
     "grade_id": "prob3",
     "locked": false,
     "schema_version": 1,
     "solution": true
    }
   },
   "outputs": [],
   "source": [
    "def trig_euler(alpha, beta, y0 = 0, tf = 10, N = 100):\n",
    "    \n",
    "    h = tf/(N-1)\n",
    "    t = np.linspace(0,tf,N)\n",
    "    \n",
    "    y = np.zeros(len(t))\n",
    "    y[0] = y0\n",
    "    \n",
    "    def f(y,t):\n",
    "        \n",
    "        return np.sin(alpha*y) + np.cos(beta*t)\n",
    "    \n",
    "    for i in range(0,len(t)-1):\n",
    "        \n",
    "        y[i+1] = y[i] + f(y[i],t[i])*h\n",
    "    \n",
    "    plt.plot(t,y)\n",
    "    \n",
    "    return np.column_stack((t,y))"
   ]
  },
  {
   "cell_type": "code",
   "execution_count": 102,
   "metadata": {
    "deletable": false,
    "editable": false,
    "nbgrader": {
     "checksum": "6b59360cb2fcbd91da15bd6ea865fcaf",
     "grade": true,
     "grade_id": "prob3-test1",
     "locked": true,
     "points": 2,
     "schema_version": 1,
     "solution": false
    }
   },
   "outputs": [
    {
     "name": "stdout",
     "output_type": "stream",
     "text": [
      "Problem 3 Test 1: Success!\n"
     ]
    },
    {
     "data": {
      "image/png": "[encoded data removed]",
      "text/plain": [
       "<Figure size 432x288 with 1 Axes>"
      ]
     },
     "metadata": {
      "needs_background": "light"
     },
     "output_type": "display_data"
    }
   ],
   "source": [
    "\"Check that trig_ode returns an array of correct size.\"\n",
    "assert np.allclose(trig_euler(1,1,N=2).shape,[2,2]), \"Return type should be a NumPy array of size 2 by 2 in this case.\"\n",
    "print(\"Problem 3 Test 1: Success!\")"
   ]
  },
  {
   "cell_type": "code",
   "execution_count": 103,
   "metadata": {
    "deletable": false,
    "editable": false,
    "nbgrader": {
     "checksum": "f468cdc453b6c018e41969cd92ecf0ca",
     "grade": true,
     "grade_id": "prob3-test2",
     "locked": true,
     "points": 3,
     "schema_version": 1,
     "solution": false
    }
   },
   "outputs": [
    {
     "name": "stdout",
     "output_type": "stream",
     "text": [
      "Problem 3 Test 2: Success!\n"
     ]
    },
    {
     "data": {
      "image/png": "[encoded data removed]",
      "text/plain": [
       "<Figure size 432x288 with 1 Axes>"
      ]
     },
     "metadata": {
      "needs_background": "light"
     },
     "output_type": "display_data"
    }
   ],
   "source": [
    "\"Check that trig_ode returns the correct values.\"\n",
    "assert np.allclose(trig_euler(3,4,tf=5,N=2),np.array([[0,0],[5,5]])), \"Return values should be y=5 at t=5 in this case.\"\n",
    "\n",
    "Y = np.array([[ 0.        , -1.        ],\n",
    "              [ 0.125     , -0.98018387],\n",
    "              [ 0.25      , -0.96289479],\n",
    "              [ 0.375     , -0.95580302],\n",
    "              [ 0.5       , -0.96643907]])\n",
    "\n",
    "assert np.allclose(trig_euler(1,2,y0=-1,N=25,tf=3)[:5,:],Y)\n",
    "\n",
    "print(\"Problem 3 Test 2: Success!\")"
   ]
  },
  {
   "cell_type": "markdown",
   "metadata": {},
   "source": [
    "##  Problem 4 (5 points)\n",
    "\n",
    "Write a function called `coriolis` which takes input parameters `w`, `Omega`, `phi`, `u0` and `t`. The function uses `scipy.integrate.odeint` to numerically solve the system of equations\n",
    "\n",
    "\\begin{align*}\n",
    "\\frac{d^2 x}{dt^2} &= -\\omega^2 x + 2 \\Omega \\sin(\\phi) \\frac{dy}{dt} \\\\\n",
    "\\frac{d^2 y}{dt^2} &= -\\omega^2 y - 2 \\Omega \\sin(\\phi) \\frac{dx}{dt}\n",
    "\\end{align*}\n",
    "\n",
    "given the initial conditions $[x(t_0),x'(t_0),y(t_0),y'(t_0)]$ defined by `u0` (a Python list of length 4), and where $t$ is a 1D NumPy array of $t$ values over an interval $[t_0,t_f]$. The parameters $\\omega$, $\\Omega$, and $\\phi$ are given by `w`, `Omega`, and `phi` respectively. The function plots the trajectory $(x(t),y(t))$ of the solution and returns a 2D NumPy array $M$ of size `len(t)` by 3 where the column at index 0 is the array of $t$ values, the column at index 1 is the corresponding array of $x$ values and the column at index 2 is the corresponding array of $y$ values."
   ]
  },
  {
   "cell_type": "code",
   "execution_count": 112,
   "metadata": {
    "deletable": false,
    "nbgrader": {
     "checksum": "da23a3851000aa92e7e94cb544ac764b",
     "grade": false,
     "grade_id": "prob4",
     "locked": false,
     "schema_version": 1,
     "solution": true
    }
   },
   "outputs": [],
   "source": [
    "def coriolis(w, Omega, phi, u0, t):\n",
    "    \n",
    "    def solver(u,t):\n",
    "        dudt = np.zeros(4)\n",
    "        dudt[0] = u[1]\n",
    "        dudt[2] = u[3]\n",
    "        dudt[1] = -(w**2)*u[0] + 2*Omega*np.sin(phi)*u[3]\n",
    "        dudt[3] = -(w**2)*u[2] - 2*Omega*np.sin(phi)*u[1]\n",
    "        \n",
    "        return dudt\n",
    "    \n",
    "    u = spi.odeint(solver,u0,t)\n",
    "    plt.plot(u[:,0],u[:,2])\n",
    "    return np.column_stack((t,u[:,0],u[:,2]))\n",
    "    "
   ]
  },
  {
   "cell_type": "code",
   "execution_count": 113,
   "metadata": {
    "deletable": false,
    "editable": false,
    "nbgrader": {
     "checksum": "5ac5f9a6f70597238d7f57a7b1cbeaa3",
     "grade": true,
     "grade_id": "prob4-test1",
     "locked": true,
     "points": 2,
     "schema_version": 1,
     "solution": false
    }
   },
   "outputs": [
    {
     "name": "stdout",
     "output_type": "stream",
     "text": [
      "Problem 5 Test 1: Success!\n"
     ]
    },
    {
     "data": {
      "image/png": "[encoded data removed]",
      "text/plain": [
       "<Figure size 432x288 with 1 Axes>"
      ]
     },
     "metadata": {
      "needs_background": "light"
     },
     "output_type": "display_data"
    }
   ],
   "source": [
    "\"Check that coriolis returns an array of the correct size.\"\n",
    "assert np.allclose(coriolis(1,3,np.pi/6,[1,0,1,0],np.linspace(0,5,100)).shape, [100,3])\n",
    "assert np.allclose(coriolis(2,1,np.pi/2,[1,-1,1,2],np.linspace(0,3,50)).shape, [50,3])\n",
    "print(\"Problem 5 Test 1: Success!\")"
   ]
  },
  {
   "cell_type": "code",
   "execution_count": 114,
   "metadata": {
    "deletable": false,
    "editable": false,
    "nbgrader": {
     "checksum": "dd4192349284b37cd8cd3019d4908cdc",
     "grade": true,
     "grade_id": "prob4-test2",
     "locked": true,
     "points": 3,
     "schema_version": 1,
     "solution": false
    }
   },
   "outputs": [
    {
     "name": "stdout",
     "output_type": "stream",
     "text": [
      "Problem 5 Test 2: Success!\n"
     ]
    },
    {
     "data": {
      "image/png": "[encoded data removed]",
      "text/plain": [
       "<Figure size 432x288 with 1 Axes>"
      ]
     },
     "metadata": {
      "needs_background": "light"
     },
     "output_type": "display_data"
    }
   ],
   "source": [
    "\"Check that coriolis returns the correct values.\"\n",
    "solution = coriolis(2,1,np.pi/2,[1,-1,1,2],np.linspace(0,10,200))\n",
    "M = np.array([[ 0.        ,  1.        ,  1.        ],\n",
    "              [ 0.05025126,  0.94974454,  1.09781044],\n",
    "              [ 0.10050251,  0.89943111,  1.18959012],\n",
    "              [ 0.15075377,  0.84891533,  1.2744251 ]])\n",
    "assert np.allclose(solution[:4,:],M)\n",
    "print(\"Problem 5 Test 2: Success!\")"
   ]
  },
  {
   "cell_type": "code",
   "execution_count": null,
   "metadata": {},
   "outputs": [],
   "source": []
  }
 ],
 "metadata": {
  "kernelspec": {
   "display_name": "Python 3",
   "language": "python",
   "name": "python3"
  },
  "language_info": {
   "codemirror_mode": {
    "name": "ipython",
    "version": 3
   },
   "file_extension": ".py",
   "mimetype": "text/x-python",
   "name": "python",
   "nbconvert_exporter": "python",
   "pygments_lexer": "ipython3",
   "version": "3.6.6"
  }
 },
 "nbformat": 4,
 "nbformat_minor": 2
}
