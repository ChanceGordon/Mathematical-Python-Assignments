{
 "cells": [
  {
   "cell_type": "markdown",
   "metadata": {},
   "source": [
    "# MATH 210 Assignment 2\n",
    "\n",
    "### Instructions\n",
    "\n",
    "* There are 3 problems and 15 total points\n",
    "* Write your solutions in the cells below\n",
    "* You may work on these problems with others but you must write your solutions on your own\n",
    "* **Do not import** any Python packages such as `math` or `numpy` to complete this assignment\n",
    "* Execute the test cells to verify that your solutions pass\n",
    "* This notebook does not contain all tests for grading (this means that your solution may not be completely correct even if it passes all tests below)\n",
    "* Submit this notebook to Canvas before **11:59pm Wednesday October 10**"
   ]
  },
  {
   "cell_type": "markdown",
   "metadata": {},
   "source": [
    "### Problem 1 (5 points)\n",
    "\n",
    "Write a function called `solution_A` which takes 5 input parameters `A`, `x0`, `eps`, `max_iter` and  `z` (default value `10e-12`), implements Newton's method with initial guess `x0` and returns an approximation of a solution of the equation\n",
    "\n",
    "$$\n",
    "\\frac{1 + Ax^3}{1 + x^2} = x^3\n",
    "$$\n",
    "\n",
    "The function `solution_A` should implement Newton's method on the function\n",
    "\n",
    "$$\n",
    "f(x) = 1 + Ax^3 - x^3(1+x^2)\n",
    "$$\n",
    "\n",
    "The function `solution_A` may terminate in 3 different ways:\n",
    "\n",
    "1. Implement Newton's method until it produces a value `x_n` such that `|f(x_n)| < eps` and then return `x_n`.\n",
    "2. If `|f'(x_n)| < z` (ie. the absolute value of the derivative is nearly 0) at any point in the implementation, the function prints `\"Zero derivative. No solution found.\"` and returns `None`.\n",
    "3. If the number of iterations exceeds the maximum number of iterations `max_iter`, the function prints `'Exceeded maximum iterations. No solution found.'` and returns `None`."
   ]
  },
  {
   "cell_type": "code",
   "execution_count": 17,
   "metadata": {
    "deletable": false,
    "nbgrader": {
     "checksum": "dedbb7d35b22fcd240c1641e403d5e93",
     "grade": false,
     "grade_id": "solution_A",
     "locked": false,
     "schema_version": 1,
     "solution": true
    }
   },
   "outputs": [],
   "source": [
    "def solution_A(A,x0,eps,max_iter,z = 10e-12):\n",
    "\n",
    "    xn = x0\n",
    "    \n",
    "    for i in range(1,max_iter+1):\n",
    "        \n",
    "        f = 1 + A*xn**3 - xn**3 - xn**5\n",
    "        df = 3*A*xn**2 - 3*xn**2 - 5*xn**4\n",
    "        \n",
    "        if abs(f) < eps:\n",
    "            return xn\n",
    "\n",
    "        if abs(df) < z:\n",
    "            print(\"Zero derivative. No solution found.\")\n",
    "            return None\n",
    "    \n",
    "        xn = xn - f/df\n",
    "    \n",
    "    print(\"Exceeded maximum iteratons. No solution found.\")\n",
    "    return None"
   ]
  },
  {
   "cell_type": "code",
   "execution_count": 18,
   "metadata": {
    "deletable": false,
    "editable": false,
    "nbgrader": {
     "checksum": "de61b57659ab311d0c714a4901f49c75",
     "grade": true,
     "grade_id": "solution_A_values1",
     "locked": true,
     "points": 1,
     "schema_version": 1,
     "solution": false
    }
   },
   "outputs": [
    {
     "name": "stdout",
     "output_type": "stream",
     "text": [
      "Problem 1 Test 1: Success!\n"
     ]
    }
   ],
   "source": [
    "\"Check that solution_A returns the correct datatype when solution is found.\"\n",
    "assert type(solution_A(2,1,0.001,25)) == float , \"Return value should be a float.\"\n",
    "print(\"Problem 1 Test 1: Success!\")"
   ]
  },
  {
   "cell_type": "code",
   "execution_count": 19,
   "metadata": {
    "deletable": false,
    "editable": false,
    "nbgrader": {
     "checksum": "f266f5f5272f4498c1f125147cb013ff",
     "grade": true,
     "grade_id": "solution_A_values2",
     "locked": true,
     "points": 2,
     "schema_version": 1,
     "solution": false
    }
   },
   "outputs": [
    {
     "name": "stdout",
     "output_type": "stream",
     "text": [
      "Problem 1 Test 2: Success!\n"
     ]
    }
   ],
   "source": [
    "\"Check that solution_A returns the correct datatype when solution is found.\"\n",
    "assert type(solution_A(12,3,10e-10,25)) == float , \"Return value should be a float.\"\n",
    "print(\"Problem 1 Test 2: Success!\")"
   ]
  },
  {
   "cell_type": "code",
   "execution_count": 20,
   "metadata": {
    "deletable": false,
    "editable": false,
    "nbgrader": {
     "checksum": "da0131b985ae3cdb4df5b19e8c305ded",
     "grade": true,
     "grade_id": "solution_A_deriv",
     "locked": true,
     "points": 1,
     "schema_version": 1,
     "solution": false
    }
   },
   "outputs": [
    {
     "name": "stdout",
     "output_type": "stream",
     "text": [
      "Zero derivative. No solution found.\n",
      "Problem 1 Test 3: Success!\n"
     ]
    }
   ],
   "source": [
    "\"Check that solution_A returns the correct datatype when there's a zero derivaitve.\"\n",
    "assert solution_A(1,0,0.0001,2) == None , \"Return value should be None.\"\n",
    "print(\"Problem 1 Test 3: Success!\")"
   ]
  },
  {
   "cell_type": "code",
   "execution_count": 21,
   "metadata": {
    "deletable": false,
    "editable": false,
    "nbgrader": {
     "checksum": "b1039797ed77717fe0e813c68bd3f1ac",
     "grade": true,
     "grade_id": "solution_A_max_iter",
     "locked": true,
     "points": 1,
     "schema_version": 1,
     "solution": false
    }
   },
   "outputs": [
    {
     "name": "stdout",
     "output_type": "stream",
     "text": [
      "Exceeded maximum iteratons. No solution found.\n",
      "Problem 1 Test 4: Success!\n"
     ]
    }
   ],
   "source": [
    "\"Check that solution_A returns the correct datatype when exceed maximum iterations.\"\n",
    "assert solution_A(2,1,10e-14,1) == None , \"Return value should be None.\"\n",
    "print(\"Problem 1 Test 4: Success!\")"
   ]
  },
  {
   "cell_type": "markdown",
   "metadata": {},
   "source": [
    "### Problem 2 (5 points)\n",
    "\n",
    "Represent a polynomial $p(x)=a_0+a_1x+a_2x^2+\\cdots+a_nx^n$ as a list of coefficients $[a_0,a_1,\\dots,a_n]$. Write a function called `poly_critical` which takes 4 input parameters `p`, `a`, `b` and `N` where `p` is a Python list of numbers representing a polynomial $p(x)$, `a` and `b` are numbers defining an interval $[a,b]$ and `N` is a positive integer.\n",
    "\n",
    "The function `poly_critical` implements $N$ iterations of the bisection method applied to the equation $p'(x)=0$ and returns an approximation of a critical point $c$ where $p'(c)=0$ for $c \\in [a,b]$.\n",
    "\n",
    "For example, if `p = [1,-1,1,0,0,1]` (which represents $p(x) = 1-x+x^2+x^5$), `a=0`, `b=1` and `N=10` then the function returns `0.4212656546685004` which approximates a solution of $5x^4+2x-1=0$.\n",
    "\n",
    "The function `poly_critical` may terminate in 4 ways:\n",
    "\n",
    "1. If `len(p) < 2` (`p` is linear), the function should print `'No critical points.'` and return `None`.\n",
    "2. If either initial endpoint is a critical point, return the endpoint.\n",
    "3. If values at both endpoints and midpoint have the same sign at any iteration, the function should print `'Bisection method fails.'` and return `None`.\n",
    "4. The function implements N iterations of the bisection method successfully and returns the midpoint of the Nth subinterval."
   ]
  },
  {
   "cell_type": "code",
   "execution_count": 46,
   "metadata": {
    "deletable": false,
    "nbgrader": {
     "checksum": "9c1c6dcf49c97f12a5e0cff17d5aa031",
     "grade": false,
     "grade_id": "poly_critical",
     "locked": false,
     "schema_version": 1,
     "solution": true
    }
   },
   "outputs": [],
   "source": [
    "def poly_critical(p,a,b,N):\n",
    "    \n",
    "    dp = [n*p[n] for n in range(1,len(p))]\n",
    "    \n",
    "    if len(p) < 2:\n",
    "        print(\"No critical points\")\n",
    "        return None\n",
    "    \n",
    "    an = a\n",
    "    bn = b\n",
    "    \n",
    "    def dP(x):\n",
    "        seq = [dp[i]*x**i for i in range(0,len(dp))]\n",
    "        sum_seq = sum(seq)\n",
    "        return sum_seq\n",
    "        \n",
    "    if abs(dP(an)) < 10e-12:\n",
    "        print(\"Initial endpoint found.\")\n",
    "        return an\n",
    "    \n",
    "    if abs(dP(bn)) < 10e-12:\n",
    "        print(\"Initial endpoint found.\")\n",
    "        return bn\n",
    "        \n",
    "    if dP(an)*dP(bn) > 0:\n",
    "        print(\"Bisection method fails.\")\n",
    "        return None\n",
    "    \n",
    "    for n in range(1,N+1):\n",
    "            \n",
    "        mn = (an+bn)/2\n",
    "            \n",
    "        if dP(an) > 0 and dP(bn) > 0 and dP(mn) > 0:\n",
    "            print(\"Bisection method fails.\")\n",
    "            return None\n",
    "            \n",
    "        if dP(an) < 0 and dP(bn) < 0 and dP(mn) < 0:\n",
    "            print(\"Bisection method fails.\")\n",
    "            return None\n",
    "            \n",
    "        if dP(mn)*dP(an) < 0:\n",
    "            an = an\n",
    "            bn = mn\n",
    "            \n",
    "        elif dP(mn)*dP(bn) < 0:\n",
    "            an = mn\n",
    "            bn = bn\n",
    "    \n",
    "    return mn"
   ]
  },
  {
   "cell_type": "code",
   "execution_count": 48,
   "metadata": {
    "deletable": false,
    "editable": false,
    "nbgrader": {
     "checksum": "d0e0d6b63235c24f1d28b35542660cfc",
     "grade": true,
     "grade_id": "poly_critical_values1",
     "locked": true,
     "points": 1,
     "schema_version": 1,
     "solution": false
    }
   },
   "outputs": [
    {
     "name": "stdout",
     "output_type": "stream",
     "text": [
      "Problem 2 Test 1: Success!\n"
     ]
    }
   ],
   "source": [
    "\"Check that poly_critical returns the correct datatype and value.\"\n",
    "assert type(poly_critical([1,-1,1,0,0,1],0,1,100)) == float , \"Return value should be a float.\"\n",
    "print(\"Problem 2 Test 1: Success!\")"
   ]
  },
  {
   "cell_type": "code",
   "execution_count": 49,
   "metadata": {
    "deletable": false,
    "editable": false,
    "nbgrader": {
     "checksum": "80574c818aea91044962689fae1c3a25",
     "grade": true,
     "grade_id": "poly_critical_values2",
     "locked": true,
     "points": 2,
     "schema_version": 1,
     "solution": false
    }
   },
   "outputs": [
    {
     "name": "stdout",
     "output_type": "stream",
     "text": [
      "Problem 2 Test 2: Success!\n"
     ]
    }
   ],
   "source": [
    "\"Check that poly_critical returns the correct datatype and value.\"\n",
    "assert type(poly_critical([1,-2,3,4],0,1,20)) == float , \"Return value should be a float.\"\n",
    "print(\"Problem 2 Test 2: Success!\")"
   ]
  },
  {
   "cell_type": "code",
   "execution_count": 50,
   "metadata": {
    "deletable": false,
    "editable": false,
    "nbgrader": {
     "checksum": "a0b7a190bd84a8e9f3ab99d597f9a08b",
     "grade": true,
     "grade_id": "poly_critical_endpoint",
     "locked": true,
     "points": 1,
     "schema_version": 1,
     "solution": false
    }
   },
   "outputs": [
    {
     "name": "stdout",
     "output_type": "stream",
     "text": [
      "Initial endpoint found.\n",
      "Problem 2 Test 3: Success!\n"
     ]
    }
   ],
   "source": [
    "\"Check that poly_critical returns the endpoint if its a critical point.\"\n",
    "assert poly_critical([1,2,-1],0,1,2) == 1.0 , \"Return value should be 1.0.\"\n",
    "print(\"Problem 2 Test 3: Success!\")"
   ]
  },
  {
   "cell_type": "code",
   "execution_count": 51,
   "metadata": {
    "deletable": false,
    "editable": false,
    "nbgrader": {
     "checksum": "579ecda358298b769f770d6950f5a4e2",
     "grade": true,
     "grade_id": "poly_critical_none",
     "locked": true,
     "points": 1,
     "schema_version": 1,
     "solution": false
    }
   },
   "outputs": [
    {
     "name": "stdout",
     "output_type": "stream",
     "text": [
      "Bisection method fails.\n",
      "Problem 2 Test 4: Success!\n"
     ]
    }
   ],
   "source": [
    "\"Check that poly_critical returns None if polynomial is linear.\"\n",
    "assert poly_critical([-21,18],-1,1,2) == None , \"Return value should be None.\"\n",
    "print(\"Problem 2 Test 4: Success!\")"
   ]
  },
  {
   "cell_type": "markdown",
   "metadata": {},
   "source": [
    "### Problem 3 (5 points)\n",
    "\n",
    "Given a finite sequence of positive integers $[a_0,a_1,\\dots,a_n]$ (of length $n+1$), define a new finite sequence $[b_0,b_1,\\dots, b_n]$ by the recursive formula\n",
    "\n",
    "$$\n",
    "b_n = a_{n} + \\frac{1}{b_{n-1}}\n",
    "$$\n",
    "\n",
    "For example:\n",
    "\n",
    "\\begin{align*}\n",
    "b_0 &= a_0 \\\\\n",
    "b_1 &= a_{1} + \\frac{1}{b_0} = a_{1} + \\frac{1}{a_0} \\\\\n",
    "b_2 &= a_{2} + \\frac{1}{b_1} = a_2 + \\frac{1}{a_{1} + \\frac{1}{a_0}}\\\\\n",
    "b_3 &= a_{3} + \\frac{1}{b_2} = a_3 + \\frac{1}{a_2 + \\frac{1}{a_{1} + \\frac{1}{a_0}}} \\\\\n",
    "& \\vdots \\\\\n",
    "b_n &= a_{n} + \\frac{1}{b_{n-1}} = a_n + \\frac{1}{\\ddots + \\frac{1}{a_0}} \n",
    "\\end{align*}\n",
    "\n",
    "Write a function called `sequence_to_fraction` which takes one input parameter `a` (a Python list of positive integers $[a_0,a_1,\\dots,a_n]$) and returns the last number $b_n$ in the sequence defined above\n",
    "\n",
    "$$\n",
    "b_n = a_n + \\frac{1}{a_{n-1} + \\frac{1}{\\ddots + \\frac{1}{a_0}}}\n",
    "$$\n"
   ]
  },
  {
   "cell_type": "code",
   "execution_count": 30,
   "metadata": {
    "deletable": false,
    "nbgrader": {
     "checksum": "781e367ed811c587e26abd2f22f16c32",
     "grade": false,
     "grade_id": "sequence_to_fraction",
     "locked": false,
     "schema_version": 1,
     "solution": true
    }
   },
   "outputs": [],
   "source": [
    "def sequence_to_fraction(a):\n",
    "    \n",
    "    if len(a) == 1:\n",
    "        return a[0]\n",
    "    \n",
    "    return a[-1] + 1/sequence_to_fraction(a[:-1])"
   ]
  },
  {
   "cell_type": "code",
   "execution_count": 31,
   "metadata": {
    "deletable": false,
    "editable": false,
    "nbgrader": {
     "checksum": "c49363071889b7fea22bcc97c95538c1",
     "grade": true,
     "grade_id": "sequence_to_fraction_values1",
     "locked": true,
     "points": 1,
     "schema_version": 1,
     "solution": false
    }
   },
   "outputs": [
    {
     "name": "stdout",
     "output_type": "stream",
     "text": [
      "Problem 3 Test 1: Success!\n"
     ]
    }
   ],
   "source": [
    "\"Check that sequence_to_values returns the correct values.\"\n",
    "assert abs(sequence_to_fraction([1,1,1]) - 1.5) < 10e-12\n",
    "print(\"Problem 3 Test 1: Success!\")"
   ]
  },
  {
   "cell_type": "code",
   "execution_count": 32,
   "metadata": {
    "deletable": false,
    "editable": false,
    "nbgrader": {
     "checksum": "d02158b5e4b1af34beedfb926f58ea50",
     "grade": true,
     "grade_id": "sequence_to_fraction_values2",
     "locked": true,
     "points": 2,
     "schema_version": 1,
     "solution": false
    }
   },
   "outputs": [
    {
     "name": "stdout",
     "output_type": "stream",
     "text": [
      "Problem 3 Test 2: Success!\n"
     ]
    }
   ],
   "source": [
    "\"Check that sequence_to_values returns the correct values.\"\n",
    "assert type(sequence_to_fraction([1,1,1,1,1,1,1,1,1,1,1])) == float\n",
    "print(\"Problem 3 Test 2: Success!\")"
   ]
  },
  {
   "cell_type": "code",
   "execution_count": 33,
   "metadata": {
    "deletable": false,
    "editable": false,
    "nbgrader": {
     "checksum": "ce946f74a633c825de54511ee650a144",
     "grade": true,
     "grade_id": "sequence_to_fraction_values3",
     "locked": true,
     "points": 2,
     "schema_version": 1,
     "solution": false
    }
   },
   "outputs": [
    {
     "name": "stdout",
     "output_type": "stream",
     "text": [
      "Problem 3 Test 3: Success!\n"
     ]
    }
   ],
   "source": [
    "\"Check that sequence_to_values returns the correct values.\"\n",
    "assert type(sequence_to_fraction([6,1,1,4,1,1,2,1,2])) == float\n",
    "print(\"Problem 3 Test 3: Success!\")"
   ]
  },
  {
   "cell_type": "code",
   "execution_count": null,
   "metadata": {},
   "outputs": [],
   "source": []
  }
 ],
 "metadata": {
  "kernelspec": {
   "display_name": "Python 3",
   "language": "python",
   "name": "python3"
  },
  "language_info": {
   "codemirror_mode": {
    "name": "ipython",
    "version": 3
   },
   "file_extension": ".py",
   "mimetype": "text/x-python",
   "name": "python",
   "nbconvert_exporter": "python",
   "pygments_lexer": "ipython3",
   "version": "3.7.6"
  }
 },
 "nbformat": 4,
 "nbformat_minor": 2
}
