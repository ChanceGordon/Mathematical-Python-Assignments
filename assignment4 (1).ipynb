{
 "cells": [
  {
   "cell_type": "markdown",
   "metadata": {},
   "source": [
    "# MATH 210 Assignment 4\n",
    "\n",
    "### Instructions\n",
    "\n",
    "* There are 5 problems and 25 total points\n",
    "* Write your solutions in the cells below\n",
    "* You may work on these problems with others but you must write your solutions on your own\n",
    "* Use NumPy, SciPy and Matplotlib\n",
    "* Execute the test cells to verify that your solutions pass\n",
    "* This notebook does not contain all tests for grading (this means that your solution may not be completely correct even if it passes all tests below)\n",
    "* Submit this notebook to Canvas before **11:59pm Friday November 16**"
   ]
  },
  {
   "cell_type": "code",
   "execution_count": 1,
   "metadata": {},
   "outputs": [],
   "source": [
    "import numpy as np\n",
    "import matplotlib.pyplot as plt\n",
    "import scipy.linalg as la\n",
    "%matplotlib inline"
   ]
  },
  {
   "cell_type": "markdown",
   "metadata": {},
   "source": [
    "### Problem 1 (5 points)\n",
    "\n",
    "Write a function called `max_eigval` which takes a 2D NumPy array $A$ representing a square matrix and returns the maximum eigenvalue of $(A + A^T)^2$. The return value should be a non-negative real number. If $A$ is not square or if $A$ is not 2-dimensional, the function `max_eigval` prints the statement `\"Matrix is not square.\"` and returns `None`."
   ]
  },
  {
   "cell_type": "code",
   "execution_count": 46,
   "metadata": {
    "deletable": false,
    "nbgrader": {
     "checksum": "7005f42d1927e17aa1347206d8381c66",
     "grade": false,
     "grade_id": "max_eigval",
     "locked": false,
     "schema_version": 1,
     "solution": true
    }
   },
   "outputs": [],
   "source": [
    "def max_eigval(A):\n",
    "    \n",
    "    if A.ndim != 2:\n",
    "        print(\"Matrix is not square.\")\n",
    "        return None\n",
    "    \n",
    "    m = A[:,0].size\n",
    "    n = A[0,:].size\n",
    "    \n",
    "    if m == n:\n",
    "        return max(la.eigvalsh((A + A.transpose())@(A + A.transpose())))\n",
    "    \n",
    "    else:\n",
    "        print(\"Matrix is not square.\")\n",
    "        return None\n",
    "    "
   ]
  },
  {
   "cell_type": "code",
   "execution_count": 47,
   "metadata": {
    "deletable": false,
    "editable": false,
    "nbgrader": {
     "checksum": "fb8ab8649c6a2fb02cd1065cf1516246",
     "grade": true,
     "grade_id": "max_eigval_type1",
     "locked": true,
     "points": 1,
     "schema_version": 1,
     "solution": false
    }
   },
   "outputs": [
    {
     "name": "stdout",
     "output_type": "stream",
     "text": [
      "Problem 1 Test 1: Success!\n"
     ]
    }
   ],
   "source": [
    "\"Check max_eigval returns the correct datatype for a square matrix.\"\n",
    "A = np.random.randint(0,10,(5,5))\n",
    "assert type(max_eigval(A)) == np.float64 , \"Return value should be a NumPy float.\"\n",
    "print(\"Problem 1 Test 1: Success!\")"
   ]
  },
  {
   "cell_type": "code",
   "execution_count": 48,
   "metadata": {
    "deletable": false,
    "editable": false,
    "nbgrader": {
     "checksum": "3d6e49b89bad7110ad96f5e6071e4fe0",
     "grade": true,
     "grade_id": "max_eigval_type2",
     "locked": true,
     "points": 1,
     "schema_version": 1,
     "solution": false
    }
   },
   "outputs": [
    {
     "name": "stdout",
     "output_type": "stream",
     "text": [
      "Matrix is not square.\n",
      "Problem 1 Test 2: Success!\n"
     ]
    }
   ],
   "source": [
    "\"Check max_eigval returns None for a non-square matrix.\"\n",
    "A = np.random.randint(0,10,(5,3))\n",
    "assert max_eigval(A) == None , \"Return value should be None for a non-square matrix.\"\n",
    "print(\"Problem 1 Test 2: Success!\")"
   ]
  },
  {
   "cell_type": "code",
   "execution_count": 49,
   "metadata": {
    "deletable": false,
    "editable": false,
    "nbgrader": {
     "checksum": "9cba29a7cd338dbf03d6060d0faeca8b",
     "grade": true,
     "grade_id": "max_eigval_type3",
     "locked": true,
     "points": 1,
     "schema_version": 1,
     "solution": false
    }
   },
   "outputs": [
    {
     "name": "stdout",
     "output_type": "stream",
     "text": [
      "Matrix is not square.\n",
      "Problem 1 Test 3: Success!\n"
     ]
    }
   ],
   "source": [
    "\"Check max_eigval returns None for a non-square matrix.\"\n",
    "A = np.random.randint(0,10,5)\n",
    "assert max_eigval(A) == None , \"Return value should be None for a non-square matrix.\"\n",
    "print(\"Problem 1 Test 3: Success!\")"
   ]
  },
  {
   "cell_type": "code",
   "execution_count": 50,
   "metadata": {
    "deletable": false,
    "editable": false,
    "nbgrader": {
     "checksum": "a841702526eb722d9de51a68dfa863fe",
     "grade": true,
     "grade_id": "max_eigval_val",
     "locked": true,
     "points": 2,
     "schema_version": 1,
     "solution": false
    }
   },
   "outputs": [
    {
     "name": "stdout",
     "output_type": "stream",
     "text": [
      "Problem 1 Test 4: Success!\n"
     ]
    }
   ],
   "source": [
    "\"Check max_eigval returns correct values.\"\n",
    "A = np.eye(5)\n",
    "assert max_eigval(A) == 4.0 , \"Return value should be 4.0 for the identity matrix.\"\n",
    "print(\"Problem 1 Test 4: Success!\")"
   ]
  },
  {
   "cell_type": "markdown",
   "metadata": {},
   "source": [
    "### Problem 2 (5 points)\n",
    "\n",
    "Write a function called `eigen_X` which takes input parameters $x$ and $y$, both are 1D NumPy arrays of the same length, and returns the eigenvector of $X^TX$ corresponding to the maximum eigenvalue of $X^TX$ where the matrix $X$ is constructed by the process:\n",
    "\n",
    "* Compute the average value $\\mu$ of the entries of $x$\n",
    "* Compute the average value $\\nu$ of the entries of $y$.\n",
    "* Create new arrays $\\bar{x}$ and $\\bar{y}$ such that the entries of $\\bar{x}$ are $\\bar{x}_k = x_k - \\mu$ and also $\\bar{y}_k = y_k - \\nu$. The result is that the average value of the entries of both $\\bar{x}$ and $\\bar{y}$ are zero.\n",
    "* Create a matrix $X = [ \\ \\bar{x} \\  \\bar{y} \\ ]$. This means $\\bar{x}$ is the column at index 0 and $\\bar{y}$ is the column at index 1.\n",
    "* Return the eigenvector $v$ of $X^TX$ corresponding to the maximum eigenvalue of $X^T X$ such that:\n",
    "    * $v$ is 1-dimensional NumPy array\n",
    "    * $v$ is normalized $||v||=1$ and $v = [v_0,v_1]$ with $v_0 > 0$ (or $v_1\\geq0$ if $v_0=0$)"
   ]
  },
  {
   "cell_type": "code",
   "execution_count": 26,
   "metadata": {
    "deletable": false,
    "nbgrader": {
     "checksum": "bc6795e817c16c0a89a4dca3ffa336fe",
     "grade": false,
     "grade_id": "eigen_X",
     "locked": false,
     "schema_version": 1,
     "solution": true
    }
   },
   "outputs": [],
   "source": [
    "def eigen_X(x,y):\n",
    "    xa = np.mean(x)\n",
    "    ya = np.mean(y)\n",
    "    x_bar = x - xa\n",
    "    y_bar = y - ya\n",
    "    X = np.column_stack([x_bar,y_bar])\n",
    "    A = X.transpose()@X\n",
    "    w, v = la.eigh(A)\n",
    "    largest_eigenvector = v[:, np.argmax(w)]\n",
    "    return largest_eigenvector\n",
    "    "
   ]
  },
  {
   "cell_type": "code",
   "execution_count": 27,
   "metadata": {
    "deletable": false,
    "editable": false,
    "nbgrader": {
     "checksum": "986b8a0127b1d4c65b652e67cc3d15a4",
     "grade": true,
     "grade_id": "eigen_X_type",
     "locked": true,
     "points": 1,
     "schema_version": 1,
     "solution": false
    }
   },
   "outputs": [
    {
     "name": "stdout",
     "output_type": "stream",
     "text": [
      "Problem 2 Test 1: Success!\n"
     ]
    }
   ],
   "source": [
    "\"Check that eigen_X returns the correct datatype and size.\"\n",
    "x = np.random.rand(5)\n",
    "y = np.random.rand(5)\n",
    "assert type(eigen_X(x,y)) == np.ndarray , \"Return value should be a NumPy array.\"\n",
    "assert eigen_X(x,y).shape == (2,) , \"Return value should be a 1D NumPy array of length 2.\"\n",
    "print(\"Problem 2 Test 1: Success!\")"
   ]
  },
  {
   "cell_type": "code",
   "execution_count": 28,
   "metadata": {
    "deletable": false,
    "editable": false,
    "nbgrader": {
     "checksum": "6f7fb1d355d6592ef5e46ef76ded8b2e",
     "grade": true,
     "grade_id": "eigen_X_value1",
     "locked": true,
     "points": 2,
     "schema_version": 1,
     "solution": false
    }
   },
   "outputs": [
    {
     "name": "stdout",
     "output_type": "stream",
     "text": [
      "Problem 2 Test 2: Success!\n"
     ]
    }
   ],
   "source": [
    "\"Check that eigen_X returns the correct values.\"\n",
    "x = np.array([1,-1])\n",
    "y = np.array([2,0])\n",
    "assert la.norm(eigen_X(x,y) - (1/2**0.5)*np.array([1,1])) < 10e-10 , \"Return value should be a [1/2**0.5,1/2**0.5].\"\n",
    "print(\"Problem 2 Test 2: Success!\")"
   ]
  },
  {
   "cell_type": "code",
   "execution_count": 29,
   "metadata": {
    "deletable": false,
    "editable": false,
    "nbgrader": {
     "checksum": "59e12290e41350ab7d94c339d42deab0",
     "grade": true,
     "grade_id": "eigen_X_value2",
     "locked": true,
     "points": 2,
     "schema_version": 1,
     "solution": false
    }
   },
   "outputs": [
    {
     "name": "stdout",
     "output_type": "stream",
     "text": [
      "Problem 2 Test 3: Success!\n"
     ]
    }
   ],
   "source": [
    "\"Check that eigen_X returns the correct values.\"\n",
    "x = np.array([1,-1])\n",
    "y = np.array([2,0])\n",
    "assert la.norm(eigen_X(x,y) - (1/2**0.5)*np.array([1,1])) < 10e-10 , \"Return value should be a [1/2**0.5,1/2**0.5].\"\n",
    "print(\"Problem 2 Test 3: Success!\")"
   ]
  },
  {
   "cell_type": "markdown",
   "metadata": {},
   "source": [
    "### Problem 3 (5 points)\n",
    "\n",
    "\n",
    "Let $n$ be a positive integer and let $h$ be a small positive number. Let $D_n$ be the square matrix of size $n$ such that\n",
    "\n",
    "\\begin{align*}\n",
    "D_{n; 0,0} &= -\\frac{1}{h} \\\\\n",
    "D_{n; 0,1} &= \\frac{1}{h} \\\\\n",
    "D_{n; i,i+1} &= \\frac{1}{2h} \\text{ for } i=1,\\dots,n-2 \\\\\n",
    "D_{n; i+1,i} &= -\\frac{1}{2h} \\text{ for } i=0,\\dots,n-3 \\\\\n",
    "D_{n; n-1,n-2} &= -\\frac{1}{h} \\\\\n",
    "D_{n; n-1,n-1} &= \\frac{1}{h} \\\\\n",
    "\\end{align*}\n",
    "\n",
    "The subscripts $D_{n; i,j}$ indicate the entry at row index $i$ and column index $j$ of the matrix $D_n$. For example, when $n=4$ we have\n",
    "\n",
    "$$\n",
    "D_4 = \\frac{1}{2h} \\left[ \\begin{array}{rrrr}\n",
    "-2 & 2 & 0 & 0 \\\\\n",
    "-1 & 0 & 1 & 0 \\\\\n",
    "0 & -1 & 0 & 1 \\\\\n",
    "0 & 0 & -2 & 2 \\\\\n",
    "\\end{array} \\right]\n",
    "$$\n",
    "\n",
    "Write a function called `solve_D` which takes input parameters $n$, $h$ and $b$ (a 2D NumPy array of size $n$ by 1) and returns a solution of the system of equations\n",
    "\n",
    "$$\n",
    "\\left( D_n^2 - I_n \\right) x = b\n",
    "$$\n",
    "\n",
    "where $I_n$ is the identity matrix of size $n$. The return value $x$ is a 2D NumPy array of size $n$ by 1."
   ]
  },
  {
   "cell_type": "code",
   "execution_count": 21,
   "metadata": {
    "deletable": false,
    "nbgrader": {
     "checksum": "38f086f7c2bc48afb8215603d5fbcc24",
     "grade": false,
     "grade_id": "solve_D",
     "locked": false,
     "schema_version": 1,
     "solution": true
    }
   },
   "outputs": [],
   "source": [
    "def solve_D(n,h,b):\n",
    "    \n",
    "    I = np.eye(n)\n",
    "    D = np.zeros((n,n))\n",
    "    D[0,0] = -1/h\n",
    "    D[0,1] = 1/h\n",
    "    D[n-1,n-2] = -1/h\n",
    "    D[n-1,n-1] = 1/h\n",
    "    \n",
    "    for i in range(1,n-1):\n",
    "        D[i,i+1] = 1/(2*h)\n",
    "        \n",
    "    for j in range(0,n-2):\n",
    "        D[j+1,j] = -1/(2*h)\n",
    "    \n",
    "    A = D@D - I\n",
    "    \n",
    "    answer = la.solve(A,b)\n",
    "    \n",
    "    return answer"
   ]
  },
  {
   "cell_type": "code",
   "execution_count": 22,
   "metadata": {
    "deletable": false,
    "editable": false,
    "nbgrader": {
     "checksum": "3590074557d1da46f22537e32cdb6283",
     "grade": true,
     "grade_id": "solve_D_type",
     "locked": true,
     "points": 2,
     "schema_version": 1,
     "solution": false
    }
   },
   "outputs": [
    {
     "name": "stdout",
     "output_type": "stream",
     "text": [
      "Problem 3 Test 1: Success!\n"
     ]
    }
   ],
   "source": [
    "\"Check that solve_D returns the correct type.\"\n",
    "assert type(solve_D(3,1,np.array([0,1,2]).reshape(3,1))) == np.ndarray, \"Return type should be a NumPy array.\"\n",
    "assert solve_D(3,1,np.array([0,1,2]).reshape(3,1)).shape == (3,1), \"Return type should be a 2D NumPy array of size (3,1) in this case.\"\n",
    "print(\"Problem 3 Test 1: Success!\")"
   ]
  },
  {
   "cell_type": "code",
   "execution_count": 23,
   "metadata": {
    "deletable": false,
    "editable": false,
    "nbgrader": {
     "checksum": "97345304e29e8eaf409e81a6e5ffbedc",
     "grade": true,
     "grade_id": "solve_D_values",
     "locked": true,
     "points": 3,
     "schema_version": 1,
     "solution": false
    }
   },
   "outputs": [
    {
     "name": "stdout",
     "output_type": "stream",
     "text": [
      "Problem 3 Test 2: Success!\n"
     ]
    }
   ],
   "source": [
    "\"Check that solve_D returns the correct values.\"\n",
    "assert la.norm(solve_D(3,1,np.array([1,-2,4]).reshape(3,1)) - np.array([-5.5,-2.5,-8.5]).reshape(3,1)) < 10e-12\n",
    "print(\"Problem 3 Test 2: Success!\")"
   ]
  },
  {
   "cell_type": "markdown",
   "metadata": {},
   "source": [
    "##  Problem 4 (5 points)\n",
    "\n",
    "Let $H_n$ be the square matrix of size $n$ such that\n",
    "$$\n",
    "H_{n; i,j} = \\frac{1}{i + j + 2} \\ \\  0 \\leq i,j < n\n",
    "$$\n",
    "\n",
    "The subscripts $H_{n; i,j}$ indicate the entry at row index $i$ and column index $j$ of the matrix $H_n$. For example, when $n=4$ we have\n",
    "\n",
    "$$\n",
    "H_4 = \\left[ \\begin{array}{rrrr}\n",
    "1/2 & 1/3 & 1/4 & 1/5 \\\\\n",
    "1/3 & 1/4 & 1/5 & 1/6 \\\\\n",
    "1/4 & 1/5 & 1/6 & 1/7 \\\\\n",
    "1/5 & 1/6 & 1/7 & 1/8\n",
    "\\end{array} \\right]\n",
    "$$\n",
    "\n",
    "Write a function called `solve_H` which takes input parameter $n$ and $b$ (a 2D NumPy array of size $n$ by 1), and returns a solution of the system of equations\n",
    "\n",
    "$$\n",
    "\\left( H_n^2 - I_n \\right) x = b\n",
    "$$\n",
    "\n",
    "where $I_n$ is the identity matrix of size $n$. The return value $x$ is a 2D NumPy array of size $n$ by 1."
   ]
  },
  {
   "cell_type": "code",
   "execution_count": 8,
   "metadata": {
    "deletable": false,
    "nbgrader": {
     "checksum": "a2368a9cc2beeef7231cd6301596c3de",
     "grade": false,
     "grade_id": "solve_H",
     "locked": false,
     "schema_version": 1,
     "solution": true
    }
   },
   "outputs": [],
   "source": [
    "def solve_H(n,b):\n",
    "    \n",
    "    I = np.eye(n)\n",
    "    H = np.ones((n,n))\n",
    "    \n",
    "    for j in range(0,n):\n",
    "        for i in range(0,n):\n",
    "            \n",
    "            H[i,j] = 1/(i+j+2)\n",
    "            \n",
    "    A = H@H - I\n",
    "    \n",
    "    answer = la.solve(A,b)\n",
    "    \n",
    "    return answer"
   ]
  },
  {
   "cell_type": "code",
   "execution_count": 9,
   "metadata": {
    "deletable": false,
    "editable": false,
    "nbgrader": {
     "checksum": "514ef8934501df728e405d644482a026",
     "grade": true,
     "grade_id": "solve_H_type",
     "locked": true,
     "points": 2,
     "schema_version": 1,
     "solution": false
    }
   },
   "outputs": [
    {
     "name": "stdout",
     "output_type": "stream",
     "text": [
      "Problem 4 Test 1: Success!\n"
     ]
    }
   ],
   "source": [
    "\"Check that solve_H returns the correct type.\"\n",
    "assert type(solve_H(10,np.arange(10)).reshape(10,1)) == np.ndarray, \"Return type should be a NumPy array.\"\n",
    "assert solve_H(10,np.arange(10)).reshape(10,1).shape == (10,1), \"Return type should be a 2D NumPy array of size 10 by 1 in this case.\"\n",
    "print(\"Problem 4 Test 1: Success!\")"
   ]
  },
  {
   "cell_type": "code",
   "execution_count": 10,
   "metadata": {
    "deletable": false,
    "editable": false,
    "nbgrader": {
     "checksum": "3d56d060bbb68b5058adf04b5178abf2",
     "grade": true,
     "grade_id": "solve_H_values",
     "locked": true,
     "points": 3,
     "schema_version": 1,
     "solution": false
    }
   },
   "outputs": [
    {
     "name": "stdout",
     "output_type": "stream",
     "text": [
      "Problem 4 Test 2: Success!\n"
     ]
    }
   ],
   "source": [
    "\"Check that solve_H returns the correct type.\"\n",
    "x = np.array([-3.27992737,-3.33209729,-3.81807645]).reshape(3,1)\n",
    "assert la.norm(solve_H(3,np.arange(3).reshape(3,1)) - x) < 10e-8, \"Return type should be a NumPy array.\"\n",
    "print(\"Problem 4 Test 2: Success!\")"
   ]
  },
  {
   "cell_type": "markdown",
   "metadata": {},
   "source": [
    "##  Problem 5 (5 points)\n",
    "\n",
    "Write a function called `p_a` which takes 2 input parameters `y` and `a` where `y` is a 1D NumPy array of length $N+1$ and `a` is a number. The function returns the value $p(a)$ where $p(x)$ is the unique polynomial of degree $N$ interpolating the points $(i,y_i)$, $i=0,\\dots,N$."
   ]
  },
  {
   "cell_type": "code",
   "execution_count": 17,
   "metadata": {
    "deletable": false,
    "nbgrader": {
     "checksum": "8d6f054de1c377b624288d4f898033ee",
     "grade": false,
     "grade_id": "p_a",
     "locked": false,
     "schema_version": 1,
     "solution": true
    }
   },
   "outputs": [],
   "source": [
    "def p_a(y,a):\n",
    "    \n",
    "    n = len(y) - 1\n",
    "    x = np.arange(0,n+1,1)\n",
    "    A = np.vander(x)\n",
    "    xn = la.solve(A,y)\n",
    "    answer = sum([xn[k]*(a**(n-k)) for k in range(0,n+1)])\n",
    "    return answer"
   ]
  },
  {
   "cell_type": "code",
   "execution_count": 18,
   "metadata": {
    "deletable": false,
    "editable": false,
    "nbgrader": {
     "checksum": "64f82a74a2954cac6782e6609e94713a",
     "grade": true,
     "grade_id": "p_a_values1",
     "locked": true,
     "points": 1,
     "schema_version": 1,
     "solution": false
    }
   },
   "outputs": [
    {
     "name": "stdout",
     "output_type": "stream",
     "text": [
      "Problem 5 Test 1: Success!\n"
     ]
    }
   ],
   "source": [
    "\"Check that solve_D returns the correct values.\"\n",
    "assert np.abs(p_a(np.array([1,0,1]),3) - 4) < 1e-10\n",
    "print(\"Problem 5 Test 1: Success!\")"
   ]
  },
  {
   "cell_type": "code",
   "execution_count": 19,
   "metadata": {
    "deletable": false,
    "editable": false,
    "nbgrader": {
     "checksum": "570d3bdcf67af16523077adefaf9f7f9",
     "grade": true,
     "grade_id": "p_a_values2",
     "locked": true,
     "points": 2,
     "schema_version": 1,
     "solution": false
    }
   },
   "outputs": [
    {
     "name": "stdout",
     "output_type": "stream",
     "text": [
      "Problem 5 Test 2: Success!\n"
     ]
    }
   ],
   "source": [
    "\"Check that solve_D returns the correct values.\"\n",
    "assert np.abs(p_a(np.array([1,0,1]),3) - 4) < 1e-10\n",
    "print(\"Problem 5 Test 2: Success!\")"
   ]
  },
  {
   "cell_type": "code",
   "execution_count": 20,
   "metadata": {
    "deletable": false,
    "editable": false,
    "nbgrader": {
     "checksum": "11c2f9fcee7019d15ac3a4390569b1d1",
     "grade": true,
     "grade_id": "p_a_values3",
     "locked": true,
     "points": 2,
     "schema_version": 1,
     "solution": false
    }
   },
   "outputs": [
    {
     "name": "stdout",
     "output_type": "stream",
     "text": [
      "Problem 5 Test 3: Success!\n"
     ]
    }
   ],
   "source": [
    "\"Check that solve_D returns the correct values.\"\n",
    "y = np.array([-2, -4,  2,  3,  2,  2])\n",
    "assert np.abs(p_a(y,2.5) - 3.125) < 1e-10\n",
    "print(\"Problem 5 Test 3: Success!\")"
   ]
  }
 ],
 "metadata": {
  "kernelspec": {
   "display_name": "Python 3",
   "language": "python",
   "name": "python3"
  },
  "language_info": {
   "codemirror_mode": {
    "name": "ipython",
    "version": 3
   },
   "file_extension": ".py",
   "mimetype": "text/x-python",
   "name": "python",
   "nbconvert_exporter": "python",
   "pygments_lexer": "ipython3",
   "version": "3.6.6"
  }
 },
 "nbformat": 4,
 "nbformat_minor": 2
}
